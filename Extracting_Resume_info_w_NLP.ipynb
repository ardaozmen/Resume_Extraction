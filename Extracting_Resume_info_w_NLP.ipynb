{
  "nbformat": 4,
  "nbformat_minor": 0,
  "metadata": {
    "colab": {
      "name": "Extracting Resume info w/ NLP",
      "provenance": [],
      "collapsed_sections": []
    },
    "kernelspec": {
      "name": "python3",
      "display_name": "Python 3"
    },
    "language_info": {
      "name": "python"
    }
  },
  "cells": [
    {
      "cell_type": "code",
      "metadata": {
        "id": "3tvw5MaAZzSD"
      },
      "source": [
        "url = \"https://raw.githubusercontent.com/siddley1001/Resume_Extraction/main/Resume.json\"\n",
        "\n",
        "\n",
        "import pandas as pd\n",
        "import numpy as np\n",
        "import spacy as sp\n",
        "import os\n",
        "from collections import defaultdict\n",
        "import matplotlib.pyplot as plt\n",
        "\n",
        "import json\n",
        "import requests\n",
        "\n",
        "path = '/content/Resume.json'\n",
        "data = [json.loads(line) for line in open(path, 'r')]"
      ],
      "execution_count": 1,
      "outputs": []
    },
    {
      "cell_type": "code",
      "metadata": {
        "id": "e4haLv3SPEVp"
      },
      "source": [
        "def pop_annot(raw_line):\n",
        "    in_line = defaultdict(list, **raw_line)\n",
        "    if 'annotation' in in_line:\n",
        "        labels = in_line['annotation']\n",
        "\n",
        "        for c_lab in labels:\n",
        "            if len(c_lab['label']) > 0:\n",
        "                in_line[c_lab['label'][0]] += c_lab['points']\n",
        "    return in_line\n",
        "\n",
        "def extract_highlights(raw_line):\n",
        "    in_line = defaultdict(list, **raw_line)\n",
        "    if 'annotation' in in_line:\n",
        "        labels = in_line['annotation']\n",
        "        for c_lab in labels:\n",
        "            if len(c_lab['label']) > 0:\n",
        "                in_line['highlight'] += [dict(category = c_lab['label'][0], **cpts) for cpts in c_lab['points']]\n",
        "    return in_line\n",
        "\n",
        "def result_to_vec(in_row, focus_col):\n",
        "    let_vec = in_row['kosher_content']\n",
        "    attn_vec = np.zeros((len(let_vec)))\n",
        "\n",
        "    for yoe in c_row[focus_col]:\n",
        "        s,e = yoe['start'], yoe['end']\n",
        "        attn_vec[s:e+1] = 1.0\n",
        "    return let_vec, attn_vec"
      ],
      "execution_count": 10,
      "outputs": []
    },
    {
      "cell_type": "code",
      "metadata": {
        "colab": {
          "base_uri": "https://localhost:8080/",
          "height": 280
        },
        "id": "x1evB-c6SGaJ",
        "outputId": "223f2324-c839-44b3-b282-181424c1ea0a"
      },
      "source": [
        "with open(path, 'r') as f:\n",
        "    #parse the data line-by-line\n",
        "    resume_data = [json.loads(file_line) for file_line in f.readlines()]\n",
        "    resume_df = pd.DataFrame([pop_annot(line) for line in resume_data])\n",
        "\n",
        "resume_df['length'] = resume_df['content'].map(len)\n",
        "\n",
        "resume_df.sample(3)"
      ],
      "execution_count": 3,
      "outputs": [
        {
          "output_type": "execute_result",
          "data": {
            "text/html": [
              "<div>\n",
              "<style scoped>\n",
              "    .dataframe tbody tr th:only-of-type {\n",
              "        vertical-align: middle;\n",
              "    }\n",
              "\n",
              "    .dataframe tbody tr th {\n",
              "        vertical-align: top;\n",
              "    }\n",
              "\n",
              "    .dataframe thead th {\n",
              "        text-align: right;\n",
              "    }\n",
              "</style>\n",
              "<table border=\"1\" class=\"dataframe\">\n",
              "  <thead>\n",
              "    <tr style=\"text-align: right;\">\n",
              "      <th></th>\n",
              "      <th>content</th>\n",
              "      <th>annotation</th>\n",
              "      <th>Companies worked at</th>\n",
              "      <th>Skills</th>\n",
              "      <th>Graduation Year</th>\n",
              "      <th>College Name</th>\n",
              "      <th>Degree</th>\n",
              "      <th>Designation</th>\n",
              "      <th>Email Address</th>\n",
              "      <th>Location</th>\n",
              "      <th>Name</th>\n",
              "      <th>Years of Experience</th>\n",
              "      <th>UNKNOWN</th>\n",
              "      <th>length</th>\n",
              "    </tr>\n",
              "  </thead>\n",
              "  <tbody>\n",
              "    <tr>\n",
              "      <th>63</th>\n",
              "      <td>Sivaganesh Selvakumar\\nDevOps Consultant with ...</td>\n",
              "      <td>[{'label': ['Skills'], 'points': [{'start': 23...</td>\n",
              "      <td>[{'start': 1915, 'end': 1930, 'text': 'Infosys...</td>\n",
              "      <td>[{'start': 2349, 'end': 2641, 'text': 'TECHNIC...</td>\n",
              "      <td>NaN</td>\n",
              "      <td>[{'start': 2257, 'end': 2290, 'text': 'Saranat...</td>\n",
              "      <td>[{'start': 1990, 'end': 2043, 'text': 'Bachelo...</td>\n",
              "      <td>[{'start': 1895, 'end': 1912, 'text': 'Technol...</td>\n",
              "      <td>NaN</td>\n",
              "      <td>[{'start': 1934, 'end': 1940, 'text': 'Chennai...</td>\n",
              "      <td>[{'start': 0, 'end': 20, 'text': 'Sivaganesh S...</td>\n",
              "      <td>NaN</td>\n",
              "      <td>NaN</td>\n",
              "      <td>2642</td>\n",
              "    </tr>\n",
              "    <tr>\n",
              "      <th>59</th>\n",
              "      <td>Sharan Adla\\n- Email me on Indeed: indeed.com/...</td>\n",
              "      <td>[{'label': ['College Name'], 'points': [{'star...</td>\n",
              "      <td>NaN</td>\n",
              "      <td>NaN</td>\n",
              "      <td>NaN</td>\n",
              "      <td>[{'start': 2421, 'end': 2449, 'text': 'Vignan ...</td>\n",
              "      <td>[{'start': 2416, 'end': 2418, 'text': 'SSC'}, ...</td>\n",
              "      <td>[{'start': 1092, 'end': 1115, 'text': 'Special...</td>\n",
              "      <td>[{'start': 1801, 'end': 1841, 'text': 'indeed....</td>\n",
              "      <td>NaN</td>\n",
              "      <td>[{'start': 0, 'end': 10, 'text': 'Sharan Adla'}]</td>\n",
              "      <td>[{'start': 86, 'end': 90, 'text': '4yrs.'}]</td>\n",
              "      <td>NaN</td>\n",
              "      <td>2633</td>\n",
              "    </tr>\n",
              "    <tr>\n",
              "      <th>64</th>\n",
              "      <td>Snehal Jadhav\\nMumbai, Maharashtra - Email me ...</td>\n",
              "      <td>[{'label': ['Companies worked at'], 'points': ...</td>\n",
              "      <td>[{'start': 1794, 'end': 1799, 'text': 'Cisco '...</td>\n",
              "      <td>[{'start': 415, 'end': 1909, 'text': 'Architec...</td>\n",
              "      <td>NaN</td>\n",
              "      <td>[{'start': 387, 'end': 404, 'text': 'Shivaji U...</td>\n",
              "      <td>[{'start': 347, 'end': 384, 'text': 'B.E in El...</td>\n",
              "      <td>[{'start': 118, 'end': 137, 'text': 'L1 networ...</td>\n",
              "      <td>[{'start': 1077, 'end': 1119, 'text': 'indeed....</td>\n",
              "      <td>[{'start': 148, 'end': 153, 'text': 'Mumbai'},...</td>\n",
              "      <td>[{'start': 0, 'end': 13, 'text': 'Snehal Jadha...</td>\n",
              "      <td>NaN</td>\n",
              "      <td>NaN</td>\n",
              "      <td>1910</td>\n",
              "    </tr>\n",
              "  </tbody>\n",
              "</table>\n",
              "</div>"
            ],
            "text/plain": [
              "                                              content  ... length\n",
              "63  Sivaganesh Selvakumar\\nDevOps Consultant with ...  ...   2642\n",
              "59  Sharan Adla\\n- Email me on Indeed: indeed.com/...  ...   2633\n",
              "64  Snehal Jadhav\\nMumbai, Maharashtra - Email me ...  ...   1910\n",
              "\n",
              "[3 rows x 14 columns]"
            ]
          },
          "metadata": {
            "tags": []
          },
          "execution_count": 3
        }
      ]
    },
    {
      "cell_type": "code",
      "metadata": {
        "colab": {
          "base_uri": "https://localhost:8080/",
          "height": 298
        },
        "id": "yP4o64amTSoA",
        "outputId": "30f39a9d-b3ce-4279-bc31-86ae5fb1d806"
      },
      "source": [
        "resume_df['length'].hist()\n",
        "plt.title('Length of Resumes (in words)')"
      ],
      "execution_count": 4,
      "outputs": [
        {
          "output_type": "execute_result",
          "data": {
            "text/plain": [
              "Text(0.5, 1.0, 'Length of Resumes (in characters)')"
            ]
          },
          "metadata": {
            "tags": []
          },
          "execution_count": 4
        },
        {
          "output_type": "display_data",
          "data": {
            "image/png": "[encoded data removed]",
            "text/plain": [
              "<Figure size 432x288 with 1 Axes>"
            ]
          },
          "metadata": {
            "tags": [],
            "needs_background": "light"
          }
        }
      ]
    },
    {
      "cell_type": "code",
      "metadata": {
        "colab": {
          "base_uri": "https://localhost:8080/",
          "height": 141
        },
        "id": "ftEmEYOHSLGD",
        "outputId": "5ca4a92c-1f92-419a-d8ae-4e1914086e72"
      },
      "source": [
        "resume_hl_df = pd.DataFrame([extract_highlights(line) for line in resume_data])\n",
        "resume_hl_df['length'] = resume_hl_df['content'].map(len)\n",
        "resume_hl_df.sample(3)"
      ],
      "execution_count": 5,
      "outputs": [
        {
          "output_type": "execute_result",
          "data": {
            "text/html": [
              "<div>\n",
              "<style scoped>\n",
              "    .dataframe tbody tr th:only-of-type {\n",
              "        vertical-align: middle;\n",
              "    }\n",
              "\n",
              "    .dataframe tbody tr th {\n",
              "        vertical-align: top;\n",
              "    }\n",
              "\n",
              "    .dataframe thead th {\n",
              "        text-align: right;\n",
              "    }\n",
              "</style>\n",
              "<table border=\"1\" class=\"dataframe\">\n",
              "  <thead>\n",
              "    <tr style=\"text-align: right;\">\n",
              "      <th></th>\n",
              "      <th>content</th>\n",
              "      <th>annotation</th>\n",
              "      <th>highlight</th>\n",
              "      <th>length</th>\n",
              "    </tr>\n",
              "  </thead>\n",
              "  <tbody>\n",
              "    <tr>\n",
              "      <th>68</th>\n",
              "      <td>Srabani Das\\nsoftware engineer - Oracle, Busin...</td>\n",
              "      <td>[{'label': ['Companies worked at'], 'points': ...</td>\n",
              "      <td>[{'category': 'Companies worked at', 'start': ...</td>\n",
              "      <td>5044</td>\n",
              "    </tr>\n",
              "    <tr>\n",
              "      <th>63</th>\n",
              "      <td>Sivaganesh Selvakumar\\nDevOps Consultant with ...</td>\n",
              "      <td>[{'label': ['Skills'], 'points': [{'start': 23...</td>\n",
              "      <td>[{'category': 'Skills', 'start': 2349, 'end': ...</td>\n",
              "      <td>2642</td>\n",
              "    </tr>\n",
              "    <tr>\n",
              "      <th>13</th>\n",
              "      <td>Kavya U.\\nNetwork Ops Associate - Accenture\\n\\...</td>\n",
              "      <td>[{'label': ['Skills'], 'points': [{'start': 18...</td>\n",
              "      <td>[{'category': 'Skills', 'start': 1844, 'end': ...</td>\n",
              "      <td>1873</td>\n",
              "    </tr>\n",
              "  </tbody>\n",
              "</table>\n",
              "</div>"
            ],
            "text/plain": [
              "                                              content  ... length\n",
              "68  Srabani Das\\nsoftware engineer - Oracle, Busin...  ...   5044\n",
              "63  Sivaganesh Selvakumar\\nDevOps Consultant with ...  ...   2642\n",
              "13  Kavya U.\\nNetwork Ops Associate - Accenture\\n\\...  ...   1873\n",
              "\n",
              "[3 rows x 4 columns]"
            ]
          },
          "metadata": {
            "tags": []
          },
          "execution_count": 5
        }
      ]
    },
    {
      "cell_type": "code",
      "metadata": {
        "colab": {
          "base_uri": "https://localhost:8080/",
          "height": 298
        },
        "id": "WqCEhR-0Ta0e",
        "outputId": "0c9b5e23-a510-4726-9930-c587786a3c2d"
      },
      "source": [
        "resume_hl_df['length'].hist()\n",
        "plt.title('Length of Resumes (in words)')"
      ],
      "execution_count": 6,
      "outputs": [
        {
          "output_type": "execute_result",
          "data": {
            "text/plain": [
              "Text(0.5, 1.0, 'Length of Resumes (in characters)')"
            ]
          },
          "metadata": {
            "tags": []
          },
          "execution_count": 6
        },
        {
          "output_type": "display_data",
          "data": {
            "image/png": "[encoded data removed]",
            "text/plain": [
              "<Figure size 432x288 with 1 Axes>"
            ]
          },
          "metadata": {
            "tags": [],
            "needs_background": "light"
          }
        }
      ]
    },
    {
      "cell_type": "code",
      "metadata": {
        "colab": {
          "base_uri": "https://localhost:8080/"
        },
        "id": "khfLSQQ4T0zH",
        "outputId": "1cb26f4a-4814-46fc-ffce-a98b73c23722"
      },
      "source": [
        "from string import ascii_lowercase, digits\n",
        "\n",
        "valid_chars = ascii_lowercase + digits + '@., '\n",
        "focus_col = 'highlight'\n",
        "focus_df = resume_hl_df[['content', focus_col, 'length']].copy().dropna()\n",
        "\n",
        "#clean text but maintain the length\n",
        "focus_df['kosher_content'] = resume_df['content'].str.lower().map(lambda c_text: ''.join([c if c in valid_chars else \" \" for c in c_text]))\n",
        "\n",
        "print(focus_col, 'with', focus_df.shape[0], 'complete results')"
      ],
      "execution_count": 8,
      "outputs": [
        {
          "output_type": "stream",
          "text": [
            "highlight with 200 complete results\n"
          ],
          "name": "stdout"
        }
      ]
    },
    {
      "cell_type": "code",
      "metadata": {
        "colab": {
          "base_uri": "https://localhost:8080/"
        },
        "id": "v06_Sd0tT1Sd",
        "outputId": "8943f38d-dc5a-4326-dbf7-0dd85787e964"
      },
      "source": [
        "print('First result')\n",
        "for _, c_row in focus_df.query('length < 2000').sample(1, random_state=20).iterrows():\n",
        "    print(len(c_row['content']))\n",
        "    for yoe in c_row[focus_col]:\n",
        "        s,e = yoe['start'], yoe['end']\n",
        "        print(yoe)\n",
        "        print(c_row['content'][s:e+1])"
      ],
      "execution_count": 9,
      "outputs": [
        {
          "output_type": "stream",
          "text": [
            "First result\n",
            "1318\n",
            "{'category': 'Email Address', 'start': 1234, 'end': 1276, 'text': 'indeed.com/r/Gunjan-Nayyar/a5819ca6733a0f41'}\n",
            "indeed.com/r/Gunjan-Nayyar/a5819ca6733a0f41\n",
            "{'category': 'Graduation Year', 'start': 1146, 'end': 1149, 'text': '2018'}\n",
            "2018\n",
            "{'category': 'College Name', 'start': 1117, 'end': 1136, 'text': 'Chitkara University\\n'}\n",
            "Chitkara University\n",
            "\n",
            "{'category': 'Degree', 'start': 1103, 'end': 1115, 'text': 'B. E. in CSE\\n'}\n",
            "B. E. in CSE\n",
            "\n",
            "{'category': 'Designation', 'start': 417, 'end': 459, 'text': 'Member of Discipline Committee in ALGORYTHM'}\n",
            "Member of Discipline Committee in ALGORYTHM\n",
            "{'category': 'Designation', 'start': 276, 'end': 318, 'text': 'Member of Discipline Committee in ALGORYTHM'}\n",
            "Member of Discipline Committee in ALGORYTHM\n",
            "{'category': 'Companies worked at', 'start': 267, 'end': 273, 'text': 'INFOSYS'}\n",
            "INFOSYS\n",
            "{'category': 'Companies worked at', 'start': 258, 'end': 264, 'text': 'INFOSYS'}\n",
            "INFOSYS\n",
            "{'category': 'Years of Experience', 'start': 235, 'end': 242, 'text': '6 months'}\n",
            "6 months\n",
            "{'category': 'Email Address', 'start': 55, 'end': 97, 'text': 'indeed.com/r/Gunjan-Nayyar/a5819ca6733a0f41'}\n",
            "indeed.com/r/Gunjan-Nayyar/a5819ca6733a0f41\n",
            "{'category': 'Location', 'start': 14, 'end': 23, 'text': 'Hoshiarpur'}\n",
            "Hoshiarpur\n",
            "{'category': 'Name', 'start': 0, 'end': 12, 'text': 'Gunjan Nayyar'}\n",
            "Gunjan Nayyar\n"
          ],
          "name": "stdout"
        }
      ]
    },
    {
      "cell_type": "code",
      "metadata": {
        "id": "eFGtcO5hZbae"
      },
      "source": [
        ""
      ],
      "execution_count": null,
      "outputs": []
    },
    {
      "cell_type": "code",
      "metadata": {
        "id": "XIF8QtIIYyy6"
      },
      "source": [
        ""
      ],
      "execution_count": null,
      "outputs": []
    },
    {
      "cell_type": "code",
      "metadata": {
        "colab": {
          "base_uri": "https://localhost:8080/",
          "height": 202
        },
        "id": "SdqFlrY3ZaUq",
        "outputId": "ce335c5e-8754-4ba0-8e02-594269b004c0"
      },
      "source": [
        "focus_df.head()"
      ],
      "execution_count": 15,
      "outputs": [
        {
          "output_type": "execute_result",
          "data": {
            "text/html": [
              "<div>\n",
              "<style scoped>\n",
              "    .dataframe tbody tr th:only-of-type {\n",
              "        vertical-align: middle;\n",
              "    }\n",
              "\n",
              "    .dataframe tbody tr th {\n",
              "        vertical-align: top;\n",
              "    }\n",
              "\n",
              "    .dataframe thead th {\n",
              "        text-align: right;\n",
              "    }\n",
              "</style>\n",
              "<table border=\"1\" class=\"dataframe\">\n",
              "  <thead>\n",
              "    <tr style=\"text-align: right;\">\n",
              "      <th></th>\n",
              "      <th>content</th>\n",
              "      <th>highlight</th>\n",
              "      <th>length</th>\n",
              "      <th>kosher_content</th>\n",
              "    </tr>\n",
              "  </thead>\n",
              "  <tbody>\n",
              "    <tr>\n",
              "      <th>0</th>\n",
              "      <td>Govardhana K\\nSenior Software Engineer\\n\\nBeng...</td>\n",
              "      <td>[{'category': 'Companies worked at', 'start': ...</td>\n",
              "      <td>1845</td>\n",
              "      <td>govardhana k senior software engineer  bengalu...</td>\n",
              "    </tr>\n",
              "    <tr>\n",
              "      <th>1</th>\n",
              "      <td>Harini Komaravelli\\nTest Analyst at Oracle, Hy...</td>\n",
              "      <td>[{'category': 'Companies worked at', 'start': ...</td>\n",
              "      <td>5203</td>\n",
              "      <td>harini komaravelli test analyst at oracle, hyd...</td>\n",
              "    </tr>\n",
              "    <tr>\n",
              "      <th>2</th>\n",
              "      <td>Hartej Kathuria\\nData Analyst Intern - Oracle ...</td>\n",
              "      <td>[{'category': 'Skills', 'start': 2246, 'end': ...</td>\n",
              "      <td>2573</td>\n",
              "      <td>hartej kathuria data analyst intern   oracle r...</td>\n",
              "    </tr>\n",
              "    <tr>\n",
              "      <th>3</th>\n",
              "      <td>Ijas Nizamuddin\\nAssociate Consultant - State ...</td>\n",
              "      <td>[{'category': 'Skills', 'start': 4652, 'end': ...</td>\n",
              "      <td>4850</td>\n",
              "      <td>ijas nizamuddin associate consultant   state s...</td>\n",
              "    </tr>\n",
              "    <tr>\n",
              "      <th>4</th>\n",
              "      <td>Imgeeyaul Ansari\\njava developer\\n\\nPune, Maha...</td>\n",
              "      <td>[{'category': 'Skills', 'start': 1894, 'end': ...</td>\n",
              "      <td>2173</td>\n",
              "      <td>imgeeyaul ansari java developer  pune, maharas...</td>\n",
              "    </tr>\n",
              "  </tbody>\n",
              "</table>\n",
              "</div>"
            ],
            "text/plain": [
              "                                             content  ...                                     kosher_content\n",
              "0  Govardhana K\\nSenior Software Engineer\\n\\nBeng...  ...  govardhana k senior software engineer  bengalu...\n",
              "1  Harini Komaravelli\\nTest Analyst at Oracle, Hy...  ...  harini komaravelli test analyst at oracle, hyd...\n",
              "2  Hartej Kathuria\\nData Analyst Intern - Oracle ...  ...  hartej kathuria data analyst intern   oracle r...\n",
              "3  Ijas Nizamuddin\\nAssociate Consultant - State ...  ...  ijas nizamuddin associate consultant   state s...\n",
              "4  Imgeeyaul Ansari\\njava developer\\n\\nPune, Maha...  ...  imgeeyaul ansari java developer  pune, maharas...\n",
              "\n",
              "[5 rows x 4 columns]"
            ]
          },
          "metadata": {
            "tags": []
          },
          "execution_count": 15
        }
      ]
    },
    {
      "cell_type": "code",
      "metadata": {
        "colab": {
          "base_uri": "https://localhost:8080/",
          "height": 121
        },
        "id": "LphEXlDQYyDY",
        "outputId": "d5f77d13-34a7-431f-dca0-ee03484c6122"
      },
      "source": [
        "focus_df.iloc[0,3]"
      ],
      "execution_count": 16,
      "outputs": [
        {
          "output_type": "execute_result",
          "data": {
            "application/vnd.google.colaboratory.intrinsic+json": {
              "type": "string"
            },
            "text/plain": [
              "'govardhana k senior software engineer  bengaluru, karnataka, karnataka   email me on indeed  indeed.com r govardhana k  b2de315d95905b68  total it experience 5 years 6 months cloud lending solutions inc 4 month   salesforce developer oracle 5 years 2 month   core java developer languages core java, go lang oracle pl sql programming, sales force developer with apex.  designations   promotions  willing to relocate  anywhere  work experience  senior software engineer  cloud lending solutions    bangalore, karnataka    january 2018 to present  present  senior consultant  oracle    bangalore, karnataka    november 2016 to december 2017  staff consultant  oracle    bangalore, karnataka    january 2014 to october 2016  associate consultant  oracle    bangalore, karnataka    november 2012 to december 2013  education  b.e in computer science engineering  adithya institute of technology    tamil nadu  september 2008 to june 2012  https   www.indeed.com r govardhana k b2de315d95905b68 isid rex download ikw download top co in https   www.indeed.com r govardhana k b2de315d95905b68 isid rex download ikw download top co in   skills  apex.  less than 1 year , data structures  3 years , flexcube  5 years , oracle  5 years , algorithms  3 years   links  https   www.linkedin.com in govardhana k 61024944   additional information  technical proficiency   languages  core java, go lang, data structures   algorithms, oracle pl sql programming, sales force with apex. tools  radtool, jdeveloper, netbeans, eclipse, sql developer, pl sql developer, winscp, putty web technologies  javascript, xml, html, webservice  operating systems  linux, windows version control system svn   git hub databases  oracle middleware  web logic, oc4j product flexcube  oracle flexcube versions 10.x, 11.x and 12.x  https   www.linkedin.com in govardhana k 61024944 '"
            ]
          },
          "metadata": {
            "tags": []
          },
          "execution_count": 16
        }
      ]
    },
    {
      "cell_type": "code",
      "metadata": {
        "colab": {
          "base_uri": "https://localhost:8080/",
          "height": 121
        },
        "id": "uBVZDStkZZ7X",
        "outputId": "3c06fd17-11ca-4669-9257-88e4e0af9bd4"
      },
      "source": [
        "focus_df.loc[0, 'content']"
      ],
      "execution_count": 20,
      "outputs": [
        {
          "output_type": "execute_result",
          "data": {
            "application/vnd.google.colaboratory.intrinsic+json": {
              "type": "string"
            },
            "text/plain": [
              "'Govardhana K\\nSenior Software Engineer\\n\\nBengaluru, Karnataka, Karnataka - Email me on Indeed: indeed.com/r/Govardhana-K/\\nb2de315d95905b68\\n\\nTotal IT experience 5 Years 6 Months\\nCloud Lending Solutions INC 4 Month • Salesforce Developer\\nOracle 5 Years 2 Month • Core Java Developer\\nLanguages Core Java, Go Lang\\nOracle PL-SQL programming,\\nSales Force Developer with APEX.\\n\\nDesignations & Promotions\\n\\nWilling to relocate: Anywhere\\n\\nWORK EXPERIENCE\\n\\nSenior Software Engineer\\n\\nCloud Lending Solutions -  Bangalore, Karnataka -\\n\\nJanuary 2018 to Present\\n\\nPresent\\n\\nSenior Consultant\\n\\nOracle -  Bangalore, Karnataka -\\n\\nNovember 2016 to December 2017\\n\\nStaff Consultant\\n\\nOracle -  Bangalore, Karnataka -\\n\\nJanuary 2014 to October 2016\\n\\nAssociate Consultant\\n\\nOracle -  Bangalore, Karnataka -\\n\\nNovember 2012 to December 2013\\n\\nEDUCATION\\n\\nB.E in Computer Science Engineering\\n\\nAdithya Institute of Technology -  Tamil Nadu\\n\\nSeptember 2008 to June 2012\\n\\nhttps://www.indeed.com/r/Govardhana-K/b2de315d95905b68?isid=rex-download&ikw=download-top&co=IN\\nhttps://www.indeed.com/r/Govardhana-K/b2de315d95905b68?isid=rex-download&ikw=download-top&co=IN\\n\\n\\nSKILLS\\n\\nAPEX. (Less than 1 year), Data Structures (3 years), FLEXCUBE (5 years), Oracle (5 years),\\nAlgorithms (3 years)\\n\\nLINKS\\n\\nhttps://www.linkedin.com/in/govardhana-k-61024944/\\n\\nADDITIONAL INFORMATION\\n\\nTechnical Proficiency:\\n\\nLanguages: Core Java, Go Lang, Data Structures & Algorithms, Oracle\\nPL-SQL programming, Sales Force with APEX.\\nTools: RADTool, Jdeveloper, NetBeans, Eclipse, SQL developer,\\nPL/SQL Developer, WinSCP, Putty\\nWeb Technologies: JavaScript, XML, HTML, Webservice\\n\\nOperating Systems: Linux, Windows\\nVersion control system SVN & Git-Hub\\nDatabases: Oracle\\nMiddleware: Web logic, OC4J\\nProduct FLEXCUBE: Oracle FLEXCUBE Versions 10.x, 11.x and 12.x\\n\\nhttps://www.linkedin.com/in/govardhana-k-61024944/'"
            ]
          },
          "metadata": {
            "tags": []
          },
          "execution_count": 20
        }
      ]
    },
    {
      "cell_type": "markdown",
      "metadata": {
        "id": "I2BEyJ7Dzx7S"
      },
      "source": [
        "Individuals have many entries in the dictionary:\n",
        "\n",
        "* label: what the *record* will describe\n",
        "        - Companies worked at\n",
        "        - Skills\n",
        "        - Graduation Year\n",
        "        - College Name\n",
        "        - Degree\n",
        "        - Designation\n",
        "        - Email Address\n",
        "        - Location\n",
        "\n",
        "*   points\n",
        "        - start\n",
        "        - end\n",
        "        - text\n",
        "\n",
        "*   For each individual create a dictionary that:\n",
        "        -  Each Company \n",
        "            - Duration\n",
        "        -  Skills \n",
        "        -  Positions [List]\n",
        "        - College\n",
        "            - Graduation Year\n",
        "            - Major\n",
        "            - Location \n",
        "\n",
        "\n",
        "\n",
        "\n"
      ]
    }
  ]
}